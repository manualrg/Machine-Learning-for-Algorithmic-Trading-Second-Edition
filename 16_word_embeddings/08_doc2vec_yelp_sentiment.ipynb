{
 "cells": [
  {
   "cell_type": "markdown",
   "metadata": {},
   "source": [
    "# Yelp Sentiment Analysis with doc2vec Document Vectors"
   ]
  },
  {
   "cell_type": "markdown",
   "metadata": {},
   "source": [
    "## Imports & Settings"
   ]
  },
  {
   "cell_type": "code",
   "execution_count": 1,
   "metadata": {
    "ExecuteTime": {
     "end_time": "2020-06-21T14:57:53.085651Z",
     "start_time": "2020-06-21T14:57:53.083498Z"
    }
   },
   "outputs": [],
   "source": [
    "import warnings\n",
    "warnings.filterwarnings('ignore')"
   ]
  },
  {
   "cell_type": "code",
   "execution_count": 2,
   "metadata": {
    "ExecuteTime": {
     "end_time": "2020-06-21T14:57:53.517538Z",
     "start_time": "2020-06-21T14:57:53.086768Z"
    }
   },
   "outputs": [
    {
     "name": "stderr",
     "output_type": "stream",
     "text": [
      "[nltk_data] Downloading package stopwords to /home/packt/nltk_data...\n",
      "[nltk_data]   Package stopwords is already up-to-date!\n"
     ]
    },
    {
     "data": {
      "text/plain": [
       "True"
      ]
     },
     "execution_count": 2,
     "metadata": {},
     "output_type": "execute_result"
    }
   ],
   "source": [
    "import nltk\n",
    "nltk.download('stopwords')"
   ]
  },
  {
   "cell_type": "code",
   "execution_count": 3,
   "metadata": {
    "ExecuteTime": {
     "end_time": "2020-06-21T14:57:54.000662Z",
     "start_time": "2020-06-21T14:57:53.518570Z"
    }
   },
   "outputs": [],
   "source": [
    "from pathlib import Path\n",
    "import logging\n",
    "from random import shuffle\n",
    "\n",
    "import numpy as np\n",
    "import pandas as pd\n",
    "\n",
    "from gensim.models import Doc2Vec\n",
    "from gensim.models.doc2vec import TaggedDocument\n",
    "\n",
    "from nltk import RegexpTokenizer\n",
    "from nltk.corpus import stopwords\n",
    "\n",
    "from sklearn.model_selection import train_test_split\n",
    "from sklearn.linear_model import LogisticRegression\n",
    "from sklearn.ensemble import RandomForestClassifier\n",
    "from sklearn.metrics import confusion_matrix, accuracy_score, roc_auc_score\n",
    "from sklearn.utils import class_weight\n",
    "\n",
    "import lightgbm as lgb\n",
    "\n",
    "import matplotlib.pyplot as plt\n",
    "import seaborn as sns"
   ]
  },
  {
   "cell_type": "markdown",
   "metadata": {},
   "source": [
    "### Settings"
   ]
  },
  {
   "cell_type": "code",
   "execution_count": 4,
   "metadata": {
    "ExecuteTime": {
     "end_time": "2020-06-21T14:57:54.005819Z",
     "start_time": "2020-06-21T14:57:54.001544Z"
    }
   },
   "outputs": [],
   "source": [
    "sns.set_style('white')\n",
    "pd.set_option('display.expand_frame_repr', False)\n",
    "np.random.seed(42)"
   ]
  },
  {
   "cell_type": "markdown",
   "metadata": {},
   "source": [
    "### Paths"
   ]
  },
  {
   "cell_type": "code",
   "execution_count": 5,
   "metadata": {
    "ExecuteTime": {
     "end_time": "2020-06-21T14:57:54.015784Z",
     "start_time": "2020-06-21T14:57:54.006719Z"
    }
   },
   "outputs": [],
   "source": [
    "data_path = Path('..', 'data', 'yelp')"
   ]
  },
  {
   "cell_type": "code",
   "execution_count": 6,
   "metadata": {
    "ExecuteTime": {
     "end_time": "2020-06-21T14:57:54.024062Z",
     "start_time": "2020-06-21T14:57:54.017142Z"
    }
   },
   "outputs": [],
   "source": [
    "results_path = Path('results', 'yelp')\n",
    "if not results_path.exists():\n",
    "    results_path.mkdir(parents=True)"
   ]
  },
  {
   "cell_type": "markdown",
   "metadata": {},
   "source": [
    "### Logging Config"
   ]
  },
  {
   "cell_type": "code",
   "execution_count": 7,
   "metadata": {
    "ExecuteTime": {
     "end_time": "2020-06-21T14:57:54.032714Z",
     "start_time": "2020-06-21T14:57:54.025156Z"
    }
   },
   "outputs": [],
   "source": [
    "logging.basicConfig(\n",
    "        filename=results_path / 'doc2vec.log',\n",
    "        level=logging.DEBUG,\n",
    "        format='%(asctime)s - %(name)s - %(levelname)s - %(message)s',\n",
    "        datefmt='%H:%M:%S')"
   ]
  },
  {
   "cell_type": "markdown",
   "metadata": {},
   "source": [
    "## Load Data"
   ]
  },
  {
   "cell_type": "markdown",
   "metadata": {},
   "source": [
    "Refer to download information [here](../data/create_yelp_review_data.ipynb).\n",
    "\n",
    "We'll create a smaller sample of 100,000 reviews per star rating."
   ]
  },
  {
   "cell_type": "code",
   "execution_count": 8,
   "metadata": {
    "ExecuteTime": {
     "end_time": "2020-06-21T14:58:12.439379Z",
     "start_time": "2020-06-21T14:58:11.450988Z"
    }
   },
   "outputs": [],
   "source": [
    "sample = pd.read_parquet(results_path / 'review_sample.parquet').reset_index(drop=True)"
   ]
  },
  {
   "cell_type": "code",
   "execution_count": 9,
   "metadata": {
    "ExecuteTime": {
     "end_time": "2020-06-21T14:58:12.448022Z",
     "start_time": "2020-06-21T14:58:12.441587Z"
    }
   },
   "outputs": [
    {
     "data": {
      "text/html": [
       "<div>\n",
       "<style scoped>\n",
       "    .dataframe tbody tr th:only-of-type {\n",
       "        vertical-align: middle;\n",
       "    }\n",
       "\n",
       "    .dataframe tbody tr th {\n",
       "        vertical-align: top;\n",
       "    }\n",
       "\n",
       "    .dataframe thead th {\n",
       "        text-align: right;\n",
       "    }\n",
       "</style>\n",
       "<table border=\"1\" class=\"dataframe\">\n",
       "  <thead>\n",
       "    <tr style=\"text-align: right;\">\n",
       "      <th></th>\n",
       "      <th>stars</th>\n",
       "      <th>text</th>\n",
       "    </tr>\n",
       "  </thead>\n",
       "  <tbody>\n",
       "    <tr>\n",
       "      <th>0</th>\n",
       "      <td>1.0</td>\n",
       "      <td>I  have worked with Peter at Green Arrow for a...</td>\n",
       "    </tr>\n",
       "    <tr>\n",
       "      <th>1</th>\n",
       "      <td>1.0</td>\n",
       "      <td>Worst salon ever!!!! They make an appointment ...</td>\n",
       "    </tr>\n",
       "    <tr>\n",
       "      <th>2</th>\n",
       "      <td>1.0</td>\n",
       "      <td>could be happenin' if anybody showed up.  pitt...</td>\n",
       "    </tr>\n",
       "    <tr>\n",
       "      <th>3</th>\n",
       "      <td>1.0</td>\n",
       "      <td>Yeah, so nothing has changed with their servic...</td>\n",
       "    </tr>\n",
       "    <tr>\n",
       "      <th>4</th>\n",
       "      <td>1.0</td>\n",
       "      <td>I sent a parts request through their online em...</td>\n",
       "    </tr>\n",
       "  </tbody>\n",
       "</table>\n",
       "</div>"
      ],
      "text/plain": [
       "   stars                                               text\n",
       "0    1.0  I  have worked with Peter at Green Arrow for a...\n",
       "1    1.0  Worst salon ever!!!! They make an appointment ...\n",
       "2    1.0  could be happenin' if anybody showed up.  pitt...\n",
       "3    1.0  Yeah, so nothing has changed with their servic...\n",
       "4    1.0  I sent a parts request through their online em..."
      ]
     },
     "execution_count": 9,
     "metadata": {},
     "output_type": "execute_result"
    }
   ],
   "source": [
    "sample.head()"
   ]
  },
  {
   "cell_type": "code",
   "execution_count": 10,
   "metadata": {},
   "outputs": [],
   "source": [
    "stars = range(1, 6)"
   ]
  },
  {
   "cell_type": "markdown",
   "metadata": {},
   "source": [
    "## Doc2Vec"
   ]
  },
  {
   "cell_type": "markdown",
   "metadata": {},
   "source": [
    "### Basic text cleaning"
   ]
  },
  {
   "cell_type": "code",
   "execution_count": 11,
   "metadata": {
    "ExecuteTime": {
     "end_time": "2020-06-21T14:58:19.368593Z",
     "start_time": "2020-06-21T14:58:19.365212Z"
    }
   },
   "outputs": [],
   "source": [
    "tokenizer = RegexpTokenizer(r'\\w+')\n",
    "stopword_set = set(stopwords.words('english'))\n",
    "\n",
    "def clean(review):\n",
    "    tokens = tokenizer.tokenize(review)\n",
    "    return ' '.join([t for t in tokens if t not in stopword_set])"
   ]
  },
  {
   "cell_type": "code",
   "execution_count": 12,
   "metadata": {
    "ExecuteTime": {
     "end_time": "2020-06-21T14:58:35.289430Z",
     "start_time": "2020-06-21T14:58:19.369470Z"
    }
   },
   "outputs": [],
   "source": [
    "sample.text = sample.text.str.lower().apply(clean)"
   ]
  },
  {
   "cell_type": "code",
   "execution_count": 13,
   "metadata": {
    "ExecuteTime": {
     "end_time": "2020-06-21T14:58:35.313272Z",
     "start_time": "2020-06-21T14:58:35.290328Z"
    }
   },
   "outputs": [
    {
     "data": {
      "text/html": [
       "<div>\n",
       "<style scoped>\n",
       "    .dataframe tbody tr th:only-of-type {\n",
       "        vertical-align: middle;\n",
       "    }\n",
       "\n",
       "    .dataframe tbody tr th {\n",
       "        vertical-align: top;\n",
       "    }\n",
       "\n",
       "    .dataframe thead th {\n",
       "        text-align: right;\n",
       "    }\n",
       "</style>\n",
       "<table border=\"1\" class=\"dataframe\">\n",
       "  <thead>\n",
       "    <tr style=\"text-align: right;\">\n",
       "      <th></th>\n",
       "      <th>stars</th>\n",
       "      <th>text</th>\n",
       "    </tr>\n",
       "  </thead>\n",
       "  <tbody>\n",
       "    <tr>\n",
       "      <th>104241</th>\n",
       "      <td>2.0</td>\n",
       "      <td>really bad experience yesterday night buffet i...</td>\n",
       "    </tr>\n",
       "    <tr>\n",
       "      <th>199676</th>\n",
       "      <td>2.0</td>\n",
       "      <td>everything place ok nothing special nothing cr...</td>\n",
       "    </tr>\n",
       "    <tr>\n",
       "      <th>140199</th>\n",
       "      <td>2.0</td>\n",
       "      <td>expected hardly flavor food accommodating vege...</td>\n",
       "    </tr>\n",
       "    <tr>\n",
       "      <th>132814</th>\n",
       "      <td>2.0</td>\n",
       "      <td>consultant helped us seem happy pull number dr...</td>\n",
       "    </tr>\n",
       "    <tr>\n",
       "      <th>408697</th>\n",
       "      <td>5.0</td>\n",
       "      <td>stopped late lunch food prepared quick service...</td>\n",
       "    </tr>\n",
       "    <tr>\n",
       "      <th>163280</th>\n",
       "      <td>2.0</td>\n",
       "      <td>middle aged dude wants enjoy cold brew ogle wa...</td>\n",
       "    </tr>\n",
       "    <tr>\n",
       "      <th>215758</th>\n",
       "      <td>3.0</td>\n",
       "      <td>expensive get food pretty good pizzas good bre...</td>\n",
       "    </tr>\n",
       "    <tr>\n",
       "      <th>442316</th>\n",
       "      <td>5.0</td>\n",
       "      <td>ordered delivery got fast 30 minutes order win...</td>\n",
       "    </tr>\n",
       "    <tr>\n",
       "      <th>6940</th>\n",
       "      <td>1.0</td>\n",
       "      <td>could see plate sitting kitchen took several m...</td>\n",
       "    </tr>\n",
       "    <tr>\n",
       "      <th>382310</th>\n",
       "      <td>4.0</td>\n",
       "      <td>stayed first time past weekend went vegas whim...</td>\n",
       "    </tr>\n",
       "  </tbody>\n",
       "</table>\n",
       "</div>"
      ],
      "text/plain": [
       "        stars                                               text\n",
       "104241    2.0  really bad experience yesterday night buffet i...\n",
       "199676    2.0  everything place ok nothing special nothing cr...\n",
       "140199    2.0  expected hardly flavor food accommodating vege...\n",
       "132814    2.0  consultant helped us seem happy pull number dr...\n",
       "408697    5.0  stopped late lunch food prepared quick service...\n",
       "163280    2.0  middle aged dude wants enjoy cold brew ogle wa...\n",
       "215758    3.0  expensive get food pretty good pizzas good bre...\n",
       "442316    5.0  ordered delivery got fast 30 minutes order win...\n",
       "6940      1.0  could see plate sitting kitchen took several m...\n",
       "382310    4.0  stayed first time past weekend went vegas whim..."
      ]
     },
     "execution_count": 13,
     "metadata": {},
     "output_type": "execute_result"
    }
   ],
   "source": [
    "sample.sample(n=10)"
   ]
  },
  {
   "cell_type": "code",
   "execution_count": 14,
   "metadata": {
    "ExecuteTime": {
     "end_time": "2020-06-21T14:58:38.692302Z",
     "start_time": "2020-06-21T14:58:35.314157Z"
    }
   },
   "outputs": [
    {
     "name": "stdout",
     "output_type": "stream",
     "text": [
      "<class 'pandas.core.frame.DataFrame'>\n",
      "Int64Index: 485725 entries, 0 to 499999\n",
      "Data columns (total 2 columns):\n",
      " #   Column  Non-Null Count   Dtype  \n",
      "---  ------  --------------   -----  \n",
      " 0   stars   485725 non-null  float64\n",
      " 1   text    485725 non-null  object \n",
      "dtypes: float64(1), object(1)\n",
      "memory usage: 11.1+ MB\n"
     ]
    }
   ],
   "source": [
    "sample = sample[sample.text.str.split().str.len()>10]\n",
    "sample.info()"
   ]
  },
  {
   "cell_type": "markdown",
   "metadata": {},
   "source": [
    "### Create sentence stream"
   ]
  },
  {
   "cell_type": "code",
   "execution_count": 15,
   "metadata": {
    "ExecuteTime": {
     "end_time": "2020-06-21T14:58:43.799150Z",
     "start_time": "2020-06-21T14:58:38.693275Z"
    }
   },
   "outputs": [],
   "source": [
    "sentences = []\n",
    "for i, (_, text) in enumerate(sample.values):\n",
    "    sentences.append(TaggedDocument(words=text.split(), tags=[i]))"
   ]
  },
  {
   "cell_type": "markdown",
   "metadata": {},
   "source": [
    "### Formulate the model"
   ]
  },
  {
   "cell_type": "code",
   "execution_count": 16,
   "metadata": {
    "ExecuteTime": {
     "end_time": "2020-06-21T15:06:02.413402Z",
     "start_time": "2020-06-21T14:58:43.800282Z"
    }
   },
   "outputs": [],
   "source": [
    "model = Doc2Vec(documents=sentences,\n",
    "                dm=1,           # 1=distributed memory, 0=dist.BOW\n",
    "                epochs=5,\n",
    "                size=300,       # vector size\n",
    "                window=5,       # max. distance betw. target and context\n",
    "                min_count=50,   # ignore tokens w. lower frequency\n",
    "                negative=5,     # negative training samples\n",
    "                dm_concat=0,    # 1=concatenate vectors, 0=sum\n",
    "                dbow_words=0,   # 1=train word vectors as well\n",
    "                workers=4)"
   ]
  },
  {
   "cell_type": "code",
   "execution_count": 17,
   "metadata": {
    "ExecuteTime": {
     "end_time": "2020-06-21T15:06:02.476540Z",
     "start_time": "2020-06-21T15:06:02.414829Z"
    }
   },
   "outputs": [
    {
     "data": {
      "text/html": [
       "<div>\n",
       "<style scoped>\n",
       "    .dataframe tbody tr th:only-of-type {\n",
       "        vertical-align: middle;\n",
       "    }\n",
       "\n",
       "    .dataframe tbody tr th {\n",
       "        vertical-align: top;\n",
       "    }\n",
       "\n",
       "    .dataframe thead th {\n",
       "        text-align: right;\n",
       "    }\n",
       "</style>\n",
       "<table border=\"1\" class=\"dataframe\">\n",
       "  <thead>\n",
       "    <tr style=\"text-align: right;\">\n",
       "      <th></th>\n",
       "      <th>token</th>\n",
       "      <th>similarity</th>\n",
       "    </tr>\n",
       "  </thead>\n",
       "  <tbody>\n",
       "    <tr>\n",
       "      <th>0</th>\n",
       "      <td>great</td>\n",
       "      <td>0.771758</td>\n",
       "    </tr>\n",
       "    <tr>\n",
       "      <th>1</th>\n",
       "      <td>decent</td>\n",
       "      <td>0.750678</td>\n",
       "    </tr>\n",
       "    <tr>\n",
       "      <th>2</th>\n",
       "      <td>awesome</td>\n",
       "      <td>0.643779</td>\n",
       "    </tr>\n",
       "    <tr>\n",
       "      <th>3</th>\n",
       "      <td>amazing</td>\n",
       "      <td>0.618799</td>\n",
       "    </tr>\n",
       "    <tr>\n",
       "      <th>4</th>\n",
       "      <td>bad</td>\n",
       "      <td>0.618504</td>\n",
       "    </tr>\n",
       "    <tr>\n",
       "      <th>5</th>\n",
       "      <td>excellent</td>\n",
       "      <td>0.599835</td>\n",
       "    </tr>\n",
       "    <tr>\n",
       "      <th>6</th>\n",
       "      <td>yummy</td>\n",
       "      <td>0.598594</td>\n",
       "    </tr>\n",
       "    <tr>\n",
       "      <th>7</th>\n",
       "      <td>ok</td>\n",
       "      <td>0.594872</td>\n",
       "    </tr>\n",
       "    <tr>\n",
       "      <th>8</th>\n",
       "      <td>okay</td>\n",
       "      <td>0.593302</td>\n",
       "    </tr>\n",
       "    <tr>\n",
       "      <th>9</th>\n",
       "      <td>tasty</td>\n",
       "      <td>0.591461</td>\n",
       "    </tr>\n",
       "  </tbody>\n",
       "</table>\n",
       "</div>"
      ],
      "text/plain": [
       "       token  similarity\n",
       "0      great    0.771758\n",
       "1     decent    0.750678\n",
       "2    awesome    0.643779\n",
       "3    amazing    0.618799\n",
       "4        bad    0.618504\n",
       "5  excellent    0.599835\n",
       "6      yummy    0.598594\n",
       "7         ok    0.594872\n",
       "8       okay    0.593302\n",
       "9      tasty    0.591461"
      ]
     },
     "execution_count": 17,
     "metadata": {},
     "output_type": "execute_result"
    }
   ],
   "source": [
    "pd.DataFrame(model.most_similar('good'), columns=['token', 'similarity'])"
   ]
  },
  {
   "cell_type": "markdown",
   "metadata": {},
   "source": [
    "### Continue training"
   ]
  },
  {
   "cell_type": "code",
   "execution_count": 18,
   "metadata": {
    "ExecuteTime": {
     "end_time": "2020-06-21T15:11:40.602744Z",
     "start_time": "2020-06-21T15:06:02.478442Z"
    }
   },
   "outputs": [],
   "source": [
    "model.train(sentences, total_examples=model.corpus_count, epochs=model.epochs)"
   ]
  },
  {
   "cell_type": "code",
   "execution_count": 19,
   "metadata": {
    "ExecuteTime": {
     "end_time": "2020-06-21T15:11:40.638403Z",
     "start_time": "2020-06-21T15:11:40.604303Z"
    }
   },
   "outputs": [
    {
     "data": {
      "text/html": [
       "<div>\n",
       "<style scoped>\n",
       "    .dataframe tbody tr th:only-of-type {\n",
       "        vertical-align: middle;\n",
       "    }\n",
       "\n",
       "    .dataframe tbody tr th {\n",
       "        vertical-align: top;\n",
       "    }\n",
       "\n",
       "    .dataframe thead th {\n",
       "        text-align: right;\n",
       "    }\n",
       "</style>\n",
       "<table border=\"1\" class=\"dataframe\">\n",
       "  <thead>\n",
       "    <tr style=\"text-align: right;\">\n",
       "      <th></th>\n",
       "      <th>token</th>\n",
       "      <th>similarity</th>\n",
       "    </tr>\n",
       "  </thead>\n",
       "  <tbody>\n",
       "    <tr>\n",
       "      <th>0</th>\n",
       "      <td>great</td>\n",
       "      <td>0.749972</td>\n",
       "    </tr>\n",
       "    <tr>\n",
       "      <th>1</th>\n",
       "      <td>decent</td>\n",
       "      <td>0.719081</td>\n",
       "    </tr>\n",
       "    <tr>\n",
       "      <th>2</th>\n",
       "      <td>awesome</td>\n",
       "      <td>0.619438</td>\n",
       "    </tr>\n",
       "    <tr>\n",
       "      <th>3</th>\n",
       "      <td>amazing</td>\n",
       "      <td>0.610857</td>\n",
       "    </tr>\n",
       "    <tr>\n",
       "      <th>4</th>\n",
       "      <td>excellent</td>\n",
       "      <td>0.609045</td>\n",
       "    </tr>\n",
       "    <tr>\n",
       "      <th>5</th>\n",
       "      <td>fantastic</td>\n",
       "      <td>0.586726</td>\n",
       "    </tr>\n",
       "    <tr>\n",
       "      <th>6</th>\n",
       "      <td>tasty</td>\n",
       "      <td>0.555088</td>\n",
       "    </tr>\n",
       "    <tr>\n",
       "      <th>7</th>\n",
       "      <td>ok</td>\n",
       "      <td>0.540861</td>\n",
       "    </tr>\n",
       "    <tr>\n",
       "      <th>8</th>\n",
       "      <td>yummy</td>\n",
       "      <td>0.539665</td>\n",
       "    </tr>\n",
       "    <tr>\n",
       "      <th>9</th>\n",
       "      <td>delicious</td>\n",
       "      <td>0.533906</td>\n",
       "    </tr>\n",
       "  </tbody>\n",
       "</table>\n",
       "</div>"
      ],
      "text/plain": [
       "       token  similarity\n",
       "0      great    0.749972\n",
       "1     decent    0.719081\n",
       "2    awesome    0.619438\n",
       "3    amazing    0.610857\n",
       "4  excellent    0.609045\n",
       "5  fantastic    0.586726\n",
       "6      tasty    0.555088\n",
       "7         ok    0.540861\n",
       "8      yummy    0.539665\n",
       "9  delicious    0.533906"
      ]
     },
     "execution_count": 19,
     "metadata": {},
     "output_type": "execute_result"
    }
   ],
   "source": [
    "most_similar = pd.DataFrame(model.most_similar('good'), columns=['token', 'similarity'])\n",
    "most_similar"
   ]
  },
  {
   "cell_type": "code",
   "execution_count": 20,
   "metadata": {
    "ExecuteTime": {
     "end_time": "2020-06-21T15:11:48.127809Z",
     "start_time": "2020-06-21T15:11:40.640050Z"
    }
   },
   "outputs": [
    {
     "data": {
      "image/png": "[encoded data removed]",
      "text/plain": [
       "<Figure size 864x288 with 2 Axes>"
      ]
     },
     "metadata": {},
     "output_type": "display_data"
    }
   ],
   "source": [
    "fig, axes =plt.subplots(ncols=2, figsize=(12, 4))\n",
    "sns.distplot(sample.text.str.split().str.len(), ax=axes[0])\n",
    "axes[0].set_title('# Tokens per Review')\n",
    "\n",
    "most_similar.set_index('token').similarity.sort_values().plot.barh(ax=axes[1], \n",
    "                                                                   title=\"Terms Most Similar to 'good'\",\n",
    "                                                                  xlim=(.5, .8))\n",
    "axes[1].set_xlabel('Similarity')\n",
    "axes[1].set_ylabel('Token')\n",
    "axes[0].set_xlabel('# Tokens')\n",
    "\n",
    "sns.despine()\n",
    "fig.tight_layout()\n",
    "fig.savefig(results_path / 'doc2vec_stats', dpi=300)"
   ]
  },
  {
   "cell_type": "markdown",
   "metadata": {},
   "source": [
    "## Persist Model"
   ]
  },
  {
   "cell_type": "code",
   "execution_count": 21,
   "metadata": {
    "ExecuteTime": {
     "end_time": "2020-06-21T15:11:49.241581Z",
     "start_time": "2020-06-21T15:11:48.129574Z"
    }
   },
   "outputs": [],
   "source": [
    "model.save((results_path / 'sample.model').as_posix())"
   ]
  },
  {
   "cell_type": "code",
   "execution_count": null,
   "metadata": {
    "ExecuteTime": {
     "end_time": "2020-06-21T15:11:49.925621Z",
     "start_time": "2020-06-21T15:11:49.243068Z"
    }
   },
   "outputs": [],
   "source": [
    "model = Doc2Vec.load((results_path / 'sample.model').as_posix())"
   ]
  },
  {
   "cell_type": "markdown",
   "metadata": {},
   "source": [
    "## Evaluate"
   ]
  },
  {
   "cell_type": "code",
   "execution_count": 22,
   "metadata": {
    "ExecuteTime": {
     "end_time": "2020-06-21T15:11:49.947446Z",
     "start_time": "2020-06-21T15:11:49.927138Z"
    }
   },
   "outputs": [],
   "source": [
    "y = sample.stars.sub(1)"
   ]
  },
  {
   "cell_type": "code",
   "execution_count": 23,
   "metadata": {
    "ExecuteTime": {
     "end_time": "2020-06-21T15:11:51.091835Z",
     "start_time": "2020-06-21T15:11:49.950798Z"
    }
   },
   "outputs": [],
   "source": [
    "size = 300\n",
    "X = np.zeros(shape=(len(y), size))\n",
    "for i in range(len(sample)):\n",
    "    X[i] = model.docvecs[i]"
   ]
  },
  {
   "cell_type": "code",
   "execution_count": 24,
   "metadata": {
    "ExecuteTime": {
     "end_time": "2020-06-21T15:11:51.097386Z",
     "start_time": "2020-06-21T15:11:51.093053Z"
    }
   },
   "outputs": [
    {
     "data": {
      "text/plain": [
       "(485725, 300)"
      ]
     },
     "execution_count": 24,
     "metadata": {},
     "output_type": "execute_result"
    }
   ],
   "source": [
    "X.shape"
   ]
  },
  {
   "cell_type": "markdown",
   "metadata": {},
   "source": [
    "### Train-Test Split"
   ]
  },
  {
   "cell_type": "code",
   "execution_count": 25,
   "metadata": {
    "ExecuteTime": {
     "end_time": "2020-06-21T15:11:51.554548Z",
     "start_time": "2020-06-21T15:11:51.099169Z"
    }
   },
   "outputs": [],
   "source": [
    "X_train, X_test, y_train, y_test = train_test_split(X, y, \n",
    "                                                    test_size=0.2, \n",
    "                                                    random_state=42, \n",
    "                                                    stratify=y)"
   ]
  },
  {
   "cell_type": "code",
   "execution_count": 26,
   "metadata": {
    "ExecuteTime": {
     "end_time": "2020-06-21T15:11:51.569283Z",
     "start_time": "2020-06-21T15:11:51.555845Z"
    }
   },
   "outputs": [
    {
     "name": "stdout",
     "output_type": "stream",
     "text": [
      "Baseline Score: 20.15%\n"
     ]
    }
   ],
   "source": [
    "mode = pd.Series(y_train).mode().iloc[0]\n",
    "baseline = accuracy_score(y_true=y_test, y_pred=np.full_like(y_test, fill_value=mode))\n",
    "print(f'Baseline Score: {baseline:.2%}')"
   ]
  },
  {
   "cell_type": "code",
   "execution_count": 27,
   "metadata": {
    "ExecuteTime": {
     "end_time": "2020-06-21T15:11:51.635535Z",
     "start_time": "2020-06-21T15:11:51.570442Z"
    }
   },
   "outputs": [],
   "source": [
    "class_weights = class_weight.compute_class_weight('balanced',\n",
    "                                                 np.unique(y_train),\n",
    "                                                 y_train)"
   ]
  },
  {
   "cell_type": "code",
   "execution_count": 28,
   "metadata": {
    "ExecuteTime": {
     "end_time": "2020-06-21T15:11:51.639739Z",
     "start_time": "2020-06-21T15:11:51.636692Z"
    }
   },
   "outputs": [
    {
     "data": {
      "text/plain": [
       "array([0.99618017, 0.9923514 , 0.99524889, 1.00219225, 1.01433084])"
      ]
     },
     "execution_count": 28,
     "metadata": {},
     "output_type": "execute_result"
    }
   ],
   "source": [
    "class_weights"
   ]
  },
  {
   "cell_type": "markdown",
   "metadata": {},
   "source": [
    "## LightGBM"
   ]
  },
  {
   "cell_type": "code",
   "execution_count": 29,
   "metadata": {
    "ExecuteTime": {
     "end_time": "2020-06-21T15:11:51.647546Z",
     "start_time": "2020-06-21T15:11:51.640920Z"
    }
   },
   "outputs": [],
   "source": [
    "train_data = lgb.Dataset(data=X_train, label=y_train)\n",
    "test_data = train_data.create_valid(X_test, label=y_test)"
   ]
  },
  {
   "cell_type": "code",
   "execution_count": 30,
   "metadata": {
    "ExecuteTime": {
     "end_time": "2020-06-21T15:11:51.658669Z",
     "start_time": "2020-06-21T15:11:51.648961Z"
    }
   },
   "outputs": [],
   "source": [
    "params = {'objective': 'multiclass',\n",
    "          'num_classes': 5}"
   ]
  },
  {
   "cell_type": "code",
   "execution_count": 31,
   "metadata": {
    "ExecuteTime": {
     "end_time": "2020-06-21T16:17:49.244232Z",
     "start_time": "2020-06-21T15:11:51.660259Z"
    }
   },
   "outputs": [
    {
     "name": "stdout",
     "output_type": "stream",
     "text": [
      "Training until validation scores don't improve for 25 rounds\n",
      "[50]\ttraining's multi_logloss: 1.4421\tvalid_1's multi_logloss: 1.46101\n",
      "[100]\ttraining's multi_logloss: 1.38415\tvalid_1's multi_logloss: 1.41855\n",
      "[150]\ttraining's multi_logloss: 1.33987\tvalid_1's multi_logloss: 1.38853\n",
      "[200]\ttraining's multi_logloss: 1.30264\tvalid_1's multi_logloss: 1.36496\n",
      "[250]\ttraining's multi_logloss: 1.27066\tvalid_1's multi_logloss: 1.34629\n",
      "[300]\ttraining's multi_logloss: 1.24319\tvalid_1's multi_logloss: 1.33174\n",
      "[350]\ttraining's multi_logloss: 1.21932\tvalid_1's multi_logloss: 1.32062\n",
      "[400]\ttraining's multi_logloss: 1.19772\tvalid_1's multi_logloss: 1.31133\n",
      "[450]\ttraining's multi_logloss: 1.17823\tvalid_1's multi_logloss: 1.30391\n",
      "[500]\ttraining's multi_logloss: 1.16009\tvalid_1's multi_logloss: 1.29725\n",
      "[550]\ttraining's multi_logloss: 1.14321\tvalid_1's multi_logloss: 1.29176\n",
      "[600]\ttraining's multi_logloss: 1.12699\tvalid_1's multi_logloss: 1.28649\n",
      "[650]\ttraining's multi_logloss: 1.11161\tvalid_1's multi_logloss: 1.28205\n",
      "[700]\ttraining's multi_logloss: 1.09636\tvalid_1's multi_logloss: 1.27743\n",
      "[750]\ttraining's multi_logloss: 1.0822\tvalid_1's multi_logloss: 1.27342\n",
      "[800]\ttraining's multi_logloss: 1.06795\tvalid_1's multi_logloss: 1.26924\n",
      "[850]\ttraining's multi_logloss: 1.05345\tvalid_1's multi_logloss: 1.26448\n",
      "[900]\ttraining's multi_logloss: 1.03974\tvalid_1's multi_logloss: 1.26037\n",
      "[950]\ttraining's multi_logloss: 1.02703\tvalid_1's multi_logloss: 1.25702\n",
      "[1000]\ttraining's multi_logloss: 1.01402\tvalid_1's multi_logloss: 1.25319\n",
      "[1050]\ttraining's multi_logloss: 1.00174\tvalid_1's multi_logloss: 1.25001\n",
      "[1100]\ttraining's multi_logloss: 0.989607\tvalid_1's multi_logloss: 1.24679\n",
      "[1150]\ttraining's multi_logloss: 0.97775\tvalid_1's multi_logloss: 1.24391\n",
      "[1200]\ttraining's multi_logloss: 0.965982\tvalid_1's multi_logloss: 1.24076\n",
      "[1250]\ttraining's multi_logloss: 0.954367\tvalid_1's multi_logloss: 1.23741\n",
      "[1300]\ttraining's multi_logloss: 0.943313\tvalid_1's multi_logloss: 1.23479\n",
      "[1350]\ttraining's multi_logloss: 0.932248\tvalid_1's multi_logloss: 1.23194\n",
      "[1400]\ttraining's multi_logloss: 0.921244\tvalid_1's multi_logloss: 1.2291\n",
      "[1450]\ttraining's multi_logloss: 0.910763\tvalid_1's multi_logloss: 1.22639\n",
      "[1500]\ttraining's multi_logloss: 0.900399\tvalid_1's multi_logloss: 1.22383\n",
      "[1550]\ttraining's multi_logloss: 0.890065\tvalid_1's multi_logloss: 1.22127\n",
      "[1600]\ttraining's multi_logloss: 0.87971\tvalid_1's multi_logloss: 1.21857\n",
      "[1650]\ttraining's multi_logloss: 0.869599\tvalid_1's multi_logloss: 1.21588\n",
      "[1700]\ttraining's multi_logloss: 0.859683\tvalid_1's multi_logloss: 1.2132\n",
      "[1750]\ttraining's multi_logloss: 0.84992\tvalid_1's multi_logloss: 1.21057\n",
      "[1800]\ttraining's multi_logloss: 0.840202\tvalid_1's multi_logloss: 1.20803\n",
      "[1850]\ttraining's multi_logloss: 0.830307\tvalid_1's multi_logloss: 1.20522\n",
      "[1900]\ttraining's multi_logloss: 0.821221\tvalid_1's multi_logloss: 1.20299\n",
      "[1950]\ttraining's multi_logloss: 0.812099\tvalid_1's multi_logloss: 1.20073\n",
      "[2000]\ttraining's multi_logloss: 0.802872\tvalid_1's multi_logloss: 1.19826\n",
      "[2050]\ttraining's multi_logloss: 0.793872\tvalid_1's multi_logloss: 1.19595\n",
      "[2100]\ttraining's multi_logloss: 0.785227\tvalid_1's multi_logloss: 1.19376\n",
      "[2150]\ttraining's multi_logloss: 0.77638\tvalid_1's multi_logloss: 1.19142\n",
      "[2200]\ttraining's multi_logloss: 0.767742\tvalid_1's multi_logloss: 1.18924\n",
      "[2250]\ttraining's multi_logloss: 0.759185\tvalid_1's multi_logloss: 1.18704\n",
      "[2300]\ttraining's multi_logloss: 0.750836\tvalid_1's multi_logloss: 1.18499\n",
      "[2350]\ttraining's multi_logloss: 0.742736\tvalid_1's multi_logloss: 1.18316\n",
      "[2400]\ttraining's multi_logloss: 0.734593\tvalid_1's multi_logloss: 1.1812\n",
      "[2450]\ttraining's multi_logloss: 0.726763\tvalid_1's multi_logloss: 1.17923\n",
      "[2500]\ttraining's multi_logloss: 0.718444\tvalid_1's multi_logloss: 1.1771\n",
      "[2550]\ttraining's multi_logloss: 0.710757\tvalid_1's multi_logloss: 1.17535\n",
      "[2600]\ttraining's multi_logloss: 0.703071\tvalid_1's multi_logloss: 1.17368\n",
      "[2650]\ttraining's multi_logloss: 0.695331\tvalid_1's multi_logloss: 1.172\n",
      "[2700]\ttraining's multi_logloss: 0.68756\tvalid_1's multi_logloss: 1.16999\n",
      "[2750]\ttraining's multi_logloss: 0.680126\tvalid_1's multi_logloss: 1.16808\n",
      "[2800]\ttraining's multi_logloss: 0.672815\tvalid_1's multi_logloss: 1.16641\n",
      "[2850]\ttraining's multi_logloss: 0.665608\tvalid_1's multi_logloss: 1.16468\n",
      "[2900]\ttraining's multi_logloss: 0.658074\tvalid_1's multi_logloss: 1.16266\n",
      "[2950]\ttraining's multi_logloss: 0.650734\tvalid_1's multi_logloss: 1.16084\n",
      "[3000]\ttraining's multi_logloss: 0.643607\tvalid_1's multi_logloss: 1.15902\n",
      "[3050]\ttraining's multi_logloss: 0.636599\tvalid_1's multi_logloss: 1.15713\n",
      "[3100]\ttraining's multi_logloss: 0.630024\tvalid_1's multi_logloss: 1.15556\n",
      "[3150]\ttraining's multi_logloss: 0.622843\tvalid_1's multi_logloss: 1.15362\n",
      "[3200]\ttraining's multi_logloss: 0.615842\tvalid_1's multi_logloss: 1.15196\n",
      "[3250]\ttraining's multi_logloss: 0.609062\tvalid_1's multi_logloss: 1.1502\n",
      "[3300]\ttraining's multi_logloss: 0.602794\tvalid_1's multi_logloss: 1.14873\n",
      "[3350]\ttraining's multi_logloss: 0.596375\tvalid_1's multi_logloss: 1.14725\n",
      "[3400]\ttraining's multi_logloss: 0.589875\tvalid_1's multi_logloss: 1.14562\n",
      "[3450]\ttraining's multi_logloss: 0.583512\tvalid_1's multi_logloss: 1.14412\n",
      "[3500]\ttraining's multi_logloss: 0.576665\tvalid_1's multi_logloss: 1.14225\n",
      "[3550]\ttraining's multi_logloss: 0.570152\tvalid_1's multi_logloss: 1.14059\n",
      "[3600]\ttraining's multi_logloss: 0.563743\tvalid_1's multi_logloss: 1.13911\n",
      "[3650]\ttraining's multi_logloss: 0.557716\tvalid_1's multi_logloss: 1.13775\n",
      "[3700]\ttraining's multi_logloss: 0.551681\tvalid_1's multi_logloss: 1.13619\n",
      "[3750]\ttraining's multi_logloss: 0.54583\tvalid_1's multi_logloss: 1.13497\n",
      "[3800]\ttraining's multi_logloss: 0.539846\tvalid_1's multi_logloss: 1.13342\n",
      "[3850]\ttraining's multi_logloss: 0.533921\tvalid_1's multi_logloss: 1.13205\n",
      "[3900]\ttraining's multi_logloss: 0.52786\tvalid_1's multi_logloss: 1.13045\n",
      "[3950]\ttraining's multi_logloss: 0.522096\tvalid_1's multi_logloss: 1.12907\n",
      "[4000]\ttraining's multi_logloss: 0.516456\tvalid_1's multi_logloss: 1.1276\n",
      "[4050]\ttraining's multi_logloss: 0.510878\tvalid_1's multi_logloss: 1.1262\n",
      "[4100]\ttraining's multi_logloss: 0.505534\tvalid_1's multi_logloss: 1.12484\n",
      "[4150]\ttraining's multi_logloss: 0.499996\tvalid_1's multi_logloss: 1.12348\n",
      "[4200]\ttraining's multi_logloss: 0.494358\tvalid_1's multi_logloss: 1.12206\n",
      "[4250]\ttraining's multi_logloss: 0.488793\tvalid_1's multi_logloss: 1.12052\n",
      "[4300]\ttraining's multi_logloss: 0.483226\tvalid_1's multi_logloss: 1.11901\n",
      "[4350]\ttraining's multi_logloss: 0.477732\tvalid_1's multi_logloss: 1.11758\n",
      "[4400]\ttraining's multi_logloss: 0.472259\tvalid_1's multi_logloss: 1.1161\n",
      "[4450]\ttraining's multi_logloss: 0.466834\tvalid_1's multi_logloss: 1.11464\n",
      "[4500]\ttraining's multi_logloss: 0.46159\tvalid_1's multi_logloss: 1.11325\n",
      "[4550]\ttraining's multi_logloss: 0.456436\tvalid_1's multi_logloss: 1.11194\n",
      "[4600]\ttraining's multi_logloss: 0.451316\tvalid_1's multi_logloss: 1.11061\n",
      "[4650]\ttraining's multi_logloss: 0.446207\tvalid_1's multi_logloss: 1.10926\n",
      "[4700]\ttraining's multi_logloss: 0.440925\tvalid_1's multi_logloss: 1.10788\n",
      "[4750]\ttraining's multi_logloss: 0.436073\tvalid_1's multi_logloss: 1.10671\n",
      "[4800]\ttraining's multi_logloss: 0.431492\tvalid_1's multi_logloss: 1.10566\n",
      "[4850]\ttraining's multi_logloss: 0.4266\tvalid_1's multi_logloss: 1.1044\n",
      "[4900]\ttraining's multi_logloss: 0.421933\tvalid_1's multi_logloss: 1.10316\n",
      "[4950]\ttraining's multi_logloss: 0.41729\tvalid_1's multi_logloss: 1.10206\n",
      "[5000]\ttraining's multi_logloss: 0.412695\tvalid_1's multi_logloss: 1.10089\n",
      "Did not meet early stopping. Best iteration is:\n",
      "[5000]\ttraining's multi_logloss: 0.412695\tvalid_1's multi_logloss: 1.10089\n"
     ]
    }
   ],
   "source": [
    "lgb_model = lgb.train(params=params,\n",
    "                      train_set=train_data,\n",
    "                      num_boost_round=5000,\n",
    "                      valid_sets=[train_data, test_data],\n",
    "                      early_stopping_rounds=25,\n",
    "                      verbose_eval=50)"
   ]
  },
  {
   "cell_type": "code",
   "execution_count": 32,
   "metadata": {
    "ExecuteTime": {
     "end_time": "2020-06-21T16:18:30.593471Z",
     "start_time": "2020-06-21T16:17:49.245185Z"
    }
   },
   "outputs": [],
   "source": [
    "lgb_pred = np.argmax(lgb_model.predict(X_test), axis=1)"
   ]
  },
  {
   "cell_type": "code",
   "execution_count": 33,
   "metadata": {
    "ExecuteTime": {
     "end_time": "2020-06-21T16:18:30.600302Z",
     "start_time": "2020-06-21T16:18:30.594272Z"
    }
   },
   "outputs": [
    {
     "name": "stdout",
     "output_type": "stream",
     "text": [
      "Accuracy: 54.97%\n"
     ]
    }
   ],
   "source": [
    "lgb_acc = accuracy_score(y_true=y_test, y_pred=lgb_pred)\n",
    "print(f'Accuracy: {lgb_acc:.2%}')"
   ]
  },
  {
   "cell_type": "markdown",
   "metadata": {},
   "source": [
    "## Random Forest"
   ]
  },
  {
   "cell_type": "code",
   "execution_count": null,
   "metadata": {
    "ExecuteTime": {
     "end_time": "2020-06-21T16:43:11.332188Z",
     "start_time": "2020-06-21T16:28:53.665145Z"
    }
   },
   "outputs": [
    {
     "name": "stderr",
     "output_type": "stream",
     "text": [
      "[Parallel(n_jobs=-1)]: Using backend ThreadingBackend with 4 concurrent workers.\n",
      "[Parallel(n_jobs=-1)]: Done  42 tasks      | elapsed:  4.0min\n",
      "[Parallel(n_jobs=-1)]: Done 192 tasks      | elapsed: 17.3min\n",
      "[Parallel(n_jobs=-1)]: Done 442 tasks      | elapsed: 47.4min\n"
     ]
    }
   ],
   "source": [
    "rf = RandomForestClassifier(n_jobs=-1,  \n",
    "                            n_estimators=500,\n",
    "                            verbose=1,\n",
    "                            class_weight='balanced_subsample')\n",
    "rf.fit(X_train, y_train)"
   ]
  },
  {
   "cell_type": "code",
   "execution_count": null,
   "metadata": {
    "ExecuteTime": {
     "end_time": "2020-06-21T16:43:18.604718Z",
     "start_time": "2020-06-21T16:43:11.333554Z"
    }
   },
   "outputs": [],
   "source": [
    "rf_pred = rf.predict(X_test)\n",
    "rf_acc = accuracy_score(y_true=y_test, y_pred=rf_pred)\n",
    "print(f'Accuracy: {rf_acc:.2%}')"
   ]
  },
  {
   "cell_type": "code",
   "execution_count": null,
   "metadata": {
    "ExecuteTime": {
     "end_time": "2020-06-21T16:43:18.940215Z",
     "start_time": "2020-06-21T16:43:18.607478Z"
    }
   },
   "outputs": [],
   "source": [
    "cm = confusion_matrix(y_true=y_test, y_pred=rf_pred)\n",
    "sns.heatmap(pd.DataFrame(cm/np.sum(cm), \n",
    "                         index=stars, \n",
    "                         columns=stars), \n",
    "            annot=True, \n",
    "            cmap='Blues', \n",
    "            fmt='.1%');"
   ]
  },
  {
   "cell_type": "markdown",
   "metadata": {},
   "source": [
    "## Multinomial Logistic Regression"
   ]
  },
  {
   "cell_type": "code",
   "execution_count": null,
   "metadata": {
    "ExecuteTime": {
     "end_time": "2020-06-21T16:43:47.898636Z",
     "start_time": "2020-06-21T16:43:27.073467Z"
    }
   },
   "outputs": [],
   "source": [
    "lr = LogisticRegression(multi_class='multinomial', \n",
    "                        solver='lbfgs', \n",
    "                        class_weight='balanced')\n",
    "lr.fit(X_train, y_train)"
   ]
  },
  {
   "cell_type": "code",
   "execution_count": null,
   "metadata": {
    "ExecuteTime": {
     "end_time": "2020-06-21T16:43:47.943467Z",
     "start_time": "2020-06-21T16:43:47.899779Z"
    }
   },
   "outputs": [],
   "source": [
    "lr_pred = lr.predict(X_test)\n",
    "lr_acc = accuracy_score(y_true=y_test, y_pred=lr_pred)\n",
    "print(f'Accuracy: {lr_acc:.2%}')"
   ]
  },
  {
   "cell_type": "code",
   "execution_count": null,
   "metadata": {
    "ExecuteTime": {
     "end_time": "2020-06-21T16:43:48.143005Z",
     "start_time": "2020-06-21T16:43:47.944521Z"
    }
   },
   "outputs": [],
   "source": [
    "cm = confusion_matrix(y_true=y_test, y_pred=lr_pred)\n",
    "sns.heatmap(pd.DataFrame(cm/np.sum(cm), \n",
    "                         index=stars, \n",
    "                         columns=stars), \n",
    "            annot=True, \n",
    "            cmap='Blues', \n",
    "            fmt='.1%');"
   ]
  },
  {
   "cell_type": "markdown",
   "metadata": {},
   "source": [
    "## Comparison"
   ]
  },
  {
   "cell_type": "code",
   "execution_count": null,
   "metadata": {
    "ExecuteTime": {
     "end_time": "2020-06-21T16:43:54.180892Z",
     "start_time": "2020-06-21T16:43:53.239808Z"
    }
   },
   "outputs": [],
   "source": [
    "fig, axes = plt.subplots(ncols=3, figsize=(15, 5), sharex=True, sharey=True)\n",
    "\n",
    "lgb_cm = confusion_matrix(y_true=y_test, y_pred=lgb_pred)\n",
    "sns.heatmap(pd.DataFrame(lgb_cm/np.sum(lgb_cm), index=stars, columns=stars),\n",
    "            annot=True, cmap='Blues', fmt='.1%', ax=axes[0], cbar=False)\n",
    "axes[0].set_title(f'Gradient Boosting: Accuracy {lgb_acc:.2%}')\n",
    "\n",
    "rf_cm = confusion_matrix(y_true=y_test, y_pred=rf_pred)\n",
    "sns.heatmap(pd.DataFrame(rf_cm/np.sum(rf_cm), index=stars, columns=stars),\n",
    "            annot=True, cmap='Blues', fmt='.1%', ax=axes[1], cbar=False)\n",
    "axes[1].set_title(f'Random Forest: Accuracy {rf_acc:.2%}')\n",
    "\n",
    "lr_cm = confusion_matrix(y_true=y_test, y_pred=lr_pred)\n",
    "sns.heatmap(pd.DataFrame(lr_cm/np.sum(lr_cm), index=stars, columns=stars),\n",
    "            annot=True, cmap='Blues', fmt='.1%', ax=axes[2], cbar=False)\n",
    "axes[2].set_title(f'Logistic Regression: Accuracy {lr_acc:.2%}')\n",
    "axes[0].set_ylabel('Actuals')\n",
    "for i in range(3):\n",
    "    axes[i].set_xlabel('Predicted')\n",
    "\n",
    "sns.despine()\n",
    "fig.tight_layout()\n",
    "fig.savefig(results_path / 'confusion_matrix', dpi=300)"
   ]
  },
  {
   "cell_type": "code",
   "execution_count": null,
   "metadata": {},
   "outputs": [],
   "source": []
  }
 ],
 "metadata": {
  "kernelspec": {
   "display_name": "Python [conda env:ml4t]",
   "language": "python",
   "name": "conda-env-ml4t-py"
  },
  "language_info": {
   "codemirror_mode": {
    "name": "ipython",
    "version": 3
   },
   "file_extension": ".py",
   "mimetype": "text/x-python",
   "name": "python",
   "nbconvert_exporter": "python",
   "pygments_lexer": "ipython3",
   "version": "3.7.7"
  },
  "toc": {
   "base_numbering": 1,
   "nav_menu": {},
   "number_sections": true,
   "sideBar": true,
   "skip_h1_title": true,
   "title_cell": "Table of Contents",
   "title_sidebar": "Contents",
   "toc_cell": false,
   "toc_position": {},
   "toc_section_display": true,
   "toc_window_display": true
  }
 },
 "nbformat": 4,
 "nbformat_minor": 4
}
