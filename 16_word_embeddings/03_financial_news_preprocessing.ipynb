{
 "cells": [
  {
   "cell_type": "markdown",
   "metadata": {},
   "source": [
    "# Financial News - Preprocessing for word2vec\n",
    "\n",
    "this nb parses financial news data into sentences and then detects phrases as 2 and 3 grams"
   ]
  },
  {
   "cell_type": "markdown",
   "metadata": {},
   "source": [
    "See notebook [lda_financial_news](../15_topic_modeling/07_financial_news/lda_financial_news.ipynb) for download instructions."
   ]
  },
  {
   "cell_type": "markdown",
   "metadata": {
    "slideshow": {
     "slide_type": "slide"
    }
   },
   "source": [
    "## Imports"
   ]
  },
  {
   "cell_type": "code",
   "execution_count": 1,
   "metadata": {
    "ExecuteTime": {
     "end_time": "2020-06-21T02:46:36.726708Z",
     "start_time": "2020-06-21T02:46:35.497658Z"
    },
    "slideshow": {
     "slide_type": "fragment"
    }
   },
   "outputs": [],
   "source": [
    "import os, tarfile, sys, json\n",
    "from pathlib import Path\n",
    "from time import time\n",
    "from pprint import pprint\n",
    "from collections import Counter\n",
    "\n",
    "import numpy as np\n",
    "from numpy.random import choice\n",
    "import pandas as pd\n",
    "import seaborn as sns\n",
    "\n",
    "import spacy\n",
    "from spacy.lang.en import English\n",
    "\n",
    "from gensim.models.word2vec import LineSentence\n",
    "from gensim.models.phrases import Phrases, Phraser"
   ]
  },
  {
   "cell_type": "markdown",
   "metadata": {
    "slideshow": {
     "slide_type": "slide"
    }
   },
   "source": [
    "### Settings"
   ]
  },
  {
   "cell_type": "code",
   "execution_count": 2,
   "metadata": {
    "ExecuteTime": {
     "end_time": "2020-06-21T02:46:36.730759Z",
     "start_time": "2020-06-21T02:46:36.728045Z"
    },
    "slideshow": {
     "slide_type": "fragment"
    }
   },
   "outputs": [],
   "source": [
    "pd.set_option('float_format', '{:,.2f}'.format)\n",
    "sns.set_style('white')\n",
    "np.random.seed(42)"
   ]
  },
  {
   "cell_type": "code",
   "execution_count": 3,
   "metadata": {
    "ExecuteTime": {
     "end_time": "2020-06-21T02:46:36.748705Z",
     "start_time": "2020-06-21T02:46:36.732050Z"
    },
    "slideshow": {
     "slide_type": "fragment"
    }
   },
   "outputs": [],
   "source": [
    "def format_time(t):\n",
    "    m, s = divmod(t, 60)\n",
    "    h, m = divmod(m, 60)\n",
    "    return '{:02.0f}:{:02.0f}:{:02.0f}'.format(h, m, s)"
   ]
  },
  {
   "cell_type": "code",
   "execution_count": 4,
   "metadata": {
    "ExecuteTime": {
     "end_time": "2020-06-21T02:46:36.937497Z",
     "start_time": "2020-06-21T02:46:36.750140Z"
    }
   },
   "outputs": [],
   "source": [
    "stop_words = set(pd.read_csv('http://ir.dcs.gla.ac.uk/resources/linguistic_utils/stop_words',\n",
    "                             header=None,\n",
    "                             squeeze=True).tolist())"
   ]
  },
  {
   "cell_type": "markdown",
   "metadata": {},
   "source": [
    "### Paths"
   ]
  },
  {
   "cell_type": "code",
   "execution_count": 5,
   "metadata": {
    "ExecuteTime": {
     "end_time": "2020-06-21T02:46:36.961172Z",
     "start_time": "2020-06-21T02:46:36.946701Z"
    }
   },
   "outputs": [],
   "source": [
    "data_path = Path('..', 'data', 'us-financial-news')"
   ]
  },
  {
   "cell_type": "code",
   "execution_count": 9,
   "metadata": {},
   "outputs": [
    {
     "data": {
      "text/plain": [
       "PosixPath('../data/us-financial-news')"
      ]
     },
     "execution_count": 9,
     "metadata": {},
     "output_type": "execute_result"
    }
   ],
   "source": [
    "data_path"
   ]
  },
  {
   "cell_type": "code",
   "execution_count": 8,
   "metadata": {},
   "outputs": [
    {
     "data": {
      "text/plain": [
       "PosixPath('results/financial_news')"
      ]
     },
     "execution_count": 8,
     "metadata": {},
     "output_type": "execute_result"
    }
   ],
   "source": [
    "results_path  #in nb folder"
   ]
  },
  {
   "cell_type": "code",
   "execution_count": 10,
   "metadata": {
    "ExecuteTime": {
     "end_time": "2020-06-21T02:46:36.942125Z",
     "start_time": "2020-06-21T02:46:36.938723Z"
    }
   },
   "outputs": [],
   "source": [
    "results_path = Path('results', 'financial_news')\n",
    "if not results_path.exists():\n",
    "    results_path.mkdir(exist_ok=True)"
   ]
  },
  {
   "cell_type": "code",
   "execution_count": 11,
   "metadata": {},
   "outputs": [],
   "source": [
    "article_path = results_path / 'articles.txt'\n",
    "clean_article_path = results_path / 'articles_clean.txt'"
   ]
  },
  {
   "cell_type": "markdown",
   "metadata": {},
   "source": [
    "## Load Data"
   ]
  },
  {
   "cell_type": "code",
   "execution_count": 12,
   "metadata": {
    "ExecuteTime": {
     "end_time": "2020-06-21T02:46:36.973821Z",
     "start_time": "2020-06-21T02:46:36.969980Z"
    }
   },
   "outputs": [],
   "source": [
    "section_titles = ['Press Releases - CNBC',\n",
    "                  'Reuters: Company News',\n",
    "                  'Reuters: World News',\n",
    "                  'Reuters: Business News',\n",
    "                  'Reuters: Financial Services and Real Estate',\n",
    "                  'Top News and Analysis (pro)',\n",
    "                  'Reuters: Top News',\n",
    "                  'The Wall Street Journal &amp; Breaking News, Business, Financial and Economic News, World News and Video',\n",
    "                  'Business &amp; Financial News, U.S &amp; International Breaking News | Reuters',\n",
    "                  'Reuters: Money News', 'Reuters: Technology News']"
   ]
  },
  {
   "cell_type": "code",
   "execution_count": 14,
   "metadata": {},
   "outputs": [],
   "source": [
    "def read_articles():\n",
    "    articles = []\n",
    "    counter = Counter()\n",
    "    for f in data_path.glob('*/**/*.json'):\n",
    "        article = json.load(f.open())\n",
    "        if article['thread']['section_title'] in set(section_titles):\n",
    "            text = article['text'].lower().split()\n",
    "            counter.update(text)\n",
    "            articles.append(' '.join([t for t in text if t not in stop_words]))\n",
    "    return articles, counter"
   ]
  },
  {
   "cell_type": "code",
   "execution_count": 15,
   "metadata": {},
   "outputs": [
    {
     "name": "stdout",
     "output_type": "stream",
     "text": [
      "Done loading 125,964 articles\n"
     ]
    }
   ],
   "source": [
    "articles, counter = read_articles()\n",
    "print(f'Done loading {len(articles):,.0f} articles')"
   ]
  },
  {
   "cell_type": "code",
   "execution_count": 32,
   "metadata": {},
   "outputs": [
    {
     "data": {
      "text/plain": [
       "1075"
      ]
     },
     "execution_count": 32,
     "metadata": {},
     "output_type": "execute_result"
    }
   ],
   "source": [
    "len(articles[0])  # first doc length"
   ]
  },
  {
   "cell_type": "code",
   "execution_count": null,
   "metadata": {},
   "outputs": [],
   "source": []
  },
  {
   "cell_type": "code",
   "execution_count": 34,
   "metadata": {},
   "outputs": [
    {
     "data": {
      "text/plain": [
       "'17 hours ago | 02:56 emerging markets soared 33 percent 2017, todd gordon tradinganalysis.com says rally won\\'t stop. big rally emerging markets, tracked emerging market etf eem , weak dollar. given gordon sees inverse relationship eem dollar, measured charts dollar-tracking etf uup , believes u.s. currency continue help group. \"we falling u.s. dollar, support international emerging market currencies eem stocks boost,\" gordon said tuesday cnbc\\'s \"trading nation.\" u.s. dollar 2017 posted worst annual performance 14 years, eem saw best performance 2013. high go, gordon says eem broken \"resistance\" $45, etf\\'s 2014 highs. $45 region calls \"support,\" sees rallying $50, etf hasn\\'t hit mid-2011. play higher, gordon suggested buying february 48/50 spread 72 cents, $72 options contract. means eem closes $50 feb. 16, gordon make maximum reward $128 trade. eem close $48, gordon lose $72 paid trade. result, gordon wants establish point out. \"if 72 cent premium just laid gets cut half 36 cents, let\\'s cut trade on,\" said. eem started year strong, rallying 1 percent tuesday.'"
      ]
     },
     "execution_count": 34,
     "metadata": {},
     "output_type": "execute_result"
    }
   ],
   "source": [
    "articles[0]  # first doc"
   ]
  },
  {
   "cell_type": "code",
   "execution_count": 31,
   "metadata": {},
   "outputs": [
    {
     "data": {
      "text/plain": [
       "PosixPath('results/financial_news/articles.txt')"
      ]
     },
     "execution_count": 31,
     "metadata": {},
     "output_type": "execute_result"
    }
   ],
   "source": [
    "article_path"
   ]
  },
  {
   "cell_type": "code",
   "execution_count": 35,
   "metadata": {
    "ExecuteTime": {
     "end_time": "2020-06-21T02:49:01.517103Z",
     "start_time": "2020-06-21T02:49:00.290315Z"
    }
   },
   "outputs": [
    {
     "data": {
      "text/plain": [
       "418422851"
      ]
     },
     "execution_count": 35,
     "metadata": {},
     "output_type": "execute_result"
    }
   ],
   "source": [
    "article_path.write_text('\\n'.join(articles))"
   ]
  },
  {
   "cell_type": "markdown",
   "metadata": {
    "slideshow": {
     "slide_type": "slide"
    }
   },
   "source": [
    "## Clean Financial News Articles"
   ]
  },
  {
   "cell_type": "code",
   "execution_count": 10,
   "metadata": {
    "ExecuteTime": {
     "end_time": "2020-06-21T02:49:04.372584Z",
     "start_time": "2020-06-21T02:49:01.523389Z"
    }
   },
   "outputs": [
    {
     "data": {
      "text/plain": [
       "125964"
      ]
     },
     "execution_count": 10,
     "metadata": {},
     "output_type": "execute_result"
    }
   ],
   "source": [
    "articles = article_path.read_text().split('\\n')\n",
    "len(articles)"
   ]
  },
  {
   "cell_type": "markdown",
   "metadata": {},
   "source": [
    "### Sentence Boundary Detection"
   ]
  },
  {
   "cell_type": "code",
   "execution_count": 19,
   "metadata": {
    "ExecuteTime": {
     "end_time": "2020-06-21T02:49:04.379501Z",
     "start_time": "2020-06-21T02:49:04.374311Z"
    }
   },
   "outputs": [],
   "source": [
    "def clean_doc(d, min_sent_len=5, max_sent_len=100):\n",
    "    \"\"\"\n",
    "    each document is splited in sentences.\n",
    "    every token in each sentence is lowercased and added only if is_alpha\n",
    "    return: a list containing in each element a cleaned sentence\n",
    "    \"\"\"\n",
    "    doc = []\n",
    "    for sent in d.sents:\n",
    "        s = [t.text.lower() for t in sent if not\n",
    "            any([t.is_digit, not t.is_alpha, t.is_punct, t.is_space])]\n",
    "        if len(s) > min_sent_len or len(sent) < max_sent_len:\n",
    "            doc.append(' '.join(s))\n",
    "    return doc"
   ]
  },
  {
   "cell_type": "code",
   "execution_count": 30,
   "metadata": {},
   "outputs": [
    {
     "data": {
      "text/plain": [
       "['i am a data scientist', 'i am interested in trading']"
      ]
     },
     "execution_count": 30,
     "metadata": {},
     "output_type": "execute_result"
    }
   ],
   "source": [
    "clean_doc(nlp(\"I am a Data Scientist! I am interested in trading\"))"
   ]
  },
  {
   "cell_type": "code",
   "execution_count": 20,
   "metadata": {
    "ExecuteTime": {
     "end_time": "2020-06-21T02:49:04.718175Z",
     "start_time": "2020-06-21T02:49:04.383194Z"
    }
   },
   "outputs": [],
   "source": [
    "nlp = English()\n",
    "sentencizer = nlp.create_pipe(\"sentencizer\")  # built-in pipeline component to Add rule-based sentence segmentation without the dependency parse.\n",
    "nlp.add_pipe(sentencizer)"
   ]
  },
  {
   "cell_type": "code",
   "execution_count": 21,
   "metadata": {},
   "outputs": [
    {
     "data": {
      "text/plain": [
       "['sentencizer']"
      ]
     },
     "execution_count": 21,
     "metadata": {},
     "output_type": "execute_result"
    }
   ],
   "source": [
    "nlp.pipe_names"
   ]
  },
  {
   "cell_type": "code",
   "execution_count": 22,
   "metadata": {
    "ExecuteTime": {
     "end_time": "2020-06-21T02:58:54.132054Z",
     "start_time": "2020-06-21T02:49:04.719495Z"
    }
   },
   "outputs": [],
   "source": [
    "clean_articles = []\n",
    "iter_articles = (article for article in articles)\n",
    "for i, doc in enumerate(nlp.pipe(iter_articles, batch_size=100, n_process=8), 1):\n",
    "    if i % int(len(articles) / 100) + 1 == 0:\n",
    "        print(f'{i / len(articles):.1%}', end=' ', flush=True)\n",
    "    clean_articles.extend(clean_doc(doc))"
   ]
  },
  {
   "cell_type": "code",
   "execution_count": 23,
   "metadata": {
    "ExecuteTime": {
     "end_time": "2020-06-21T02:58:55.038684Z",
     "start_time": "2020-06-21T02:58:54.134275Z"
    }
   },
   "outputs": [
    {
     "data": {
      "text/plain": [
       "356650931"
      ]
     },
     "execution_count": 23,
     "metadata": {},
     "output_type": "execute_result"
    }
   ],
   "source": [
    "clean_article_path.write_text('\\n'.join(clean_articles))"
   ]
  },
  {
   "cell_type": "code",
   "execution_count": 40,
   "metadata": {},
   "outputs": [
    {
     "data": {
      "text/plain": [
       "\"17 hours ago | 02:56 emerging markets soared 33 percent 2017, todd gordon tradinganalysis.com says rally won't stop. big rally emerging markets, tracked emerging market etf eem , weak dollar. given go\""
      ]
     },
     "execution_count": 40,
     "metadata": {},
     "output_type": "execute_result"
    }
   ],
   "source": [
    "articles[0][:200]"
   ]
  },
  {
   "cell_type": "code",
   "execution_count": 36,
   "metadata": {},
   "outputs": [
    {
     "data": {
      "text/plain": [
       "'hours ago emerging markets soared percent todd gordon says rally wo stop'"
      ]
     },
     "execution_count": 36,
     "metadata": {},
     "output_type": "execute_result"
    }
   ],
   "source": [
    "clean_articles[0]  # first sentence on first article"
   ]
  },
  {
   "cell_type": "markdown",
   "metadata": {},
   "source": [
    "### Corpus Stats"
   ]
  },
  {
   "cell_type": "code",
   "execution_count": 41,
   "metadata": {
    "ExecuteTime": {
     "end_time": "2020-06-21T02:58:55.043613Z",
     "start_time": "2020-06-21T02:58:55.039660Z"
    }
   },
   "outputs": [
    {
     "data": {
      "text/plain": [
       "2986105"
      ]
     },
     "execution_count": 41,
     "metadata": {},
     "output_type": "execute_result"
    }
   ],
   "source": [
    "len(clean_articles)   # total number of sentences on each article"
   ]
  },
  {
   "cell_type": "code",
   "execution_count": 42,
   "metadata": {
    "ExecuteTime": {
     "end_time": "2020-06-21T02:59:05.320049Z",
     "start_time": "2020-06-21T02:58:55.044890Z"
    }
   },
   "outputs": [],
   "source": [
    "vocab = Counter()\n",
    "sent_length = []\n",
    "for sentence in clean_articles:\n",
    "    tokens = sentence.lower().split()\n",
    "    sent_length.append(len(tokens))\n",
    "    vocab.update(tokens)"
   ]
  },
  {
   "cell_type": "code",
   "execution_count": 43,
   "metadata": {
    "ExecuteTime": {
     "end_time": "2020-06-21T02:59:05.323307Z",
     "start_time": "2020-06-21T02:59:05.320947Z"
    }
   },
   "outputs": [
    {
     "data": {
      "text/plain": [
       "2986105"
      ]
     },
     "execution_count": 43,
     "metadata": {},
     "output_type": "execute_result"
    }
   ],
   "source": [
    "len(sent_length)"
   ]
  },
  {
   "cell_type": "code",
   "execution_count": 44,
   "metadata": {
    "ExecuteTime": {
     "end_time": "2020-06-21T02:59:05.819285Z",
     "start_time": "2020-06-21T02:59:05.324574Z"
    }
   },
   "outputs": [
    {
     "data": {
      "text/plain": [
       "count   2,986,105.00\n",
       "mean           15.36\n",
       "std            20.68\n",
       "min             0.00\n",
       "10%             4.00\n",
       "20%             6.00\n",
       "30%             8.00\n",
       "40%            10.00\n",
       "50%            12.00\n",
       "60%            14.00\n",
       "70%            17.00\n",
       "80%            20.00\n",
       "90%            25.00\n",
       "max         6,910.00\n",
       "dtype: float64"
      ]
     },
     "execution_count": 44,
     "metadata": {},
     "output_type": "execute_result"
    }
   ],
   "source": [
    "pd.Series(sent_length).describe(percentiles=np.arange(.1, 1, .1).round(1))"
   ]
  },
  {
   "cell_type": "markdown",
   "metadata": {},
   "source": [
    "2.986 M sentences, on average 15 tokens length"
   ]
  },
  {
   "cell_type": "code",
   "execution_count": 45,
   "metadata": {
    "ExecuteTime": {
     "end_time": "2020-06-21T02:59:06.117128Z",
     "start_time": "2020-06-21T02:59:05.820424Z"
    }
   },
   "outputs": [],
   "source": [
    "most_common = (pd.DataFrame(vocab.most_common(), columns=['token', 'count'])\n",
    "               .pipe(lambda x: x[~x.token.str.lower().isin(stop_words)]))"
   ]
  },
  {
   "cell_type": "code",
   "execution_count": 46,
   "metadata": {
    "ExecuteTime": {
     "end_time": "2020-06-21T02:59:06.404028Z",
     "start_time": "2020-06-21T02:59:06.118008Z"
    }
   },
   "outputs": [
    {
     "data": {
      "image/png": "[encoded data removed]",
      "text/plain": [
       "<Figure size 1008x432 with 1 Axes>"
      ]
     },
     "metadata": {},
     "output_type": "display_data"
    }
   ],
   "source": [
    "most_common.head(25).set_index('token')['count'].sort_values().plot.barh(title='Most Common Tokens', figsize=(14, 6));"
   ]
  },
  {
   "cell_type": "markdown",
   "metadata": {
    "slideshow": {
     "slide_type": "slide"
    }
   },
   "source": [
    "### Inspect Result"
   ]
  },
  {
   "cell_type": "code",
   "execution_count": 47,
   "metadata": {
    "ExecuteTime": {
     "end_time": "2020-06-21T02:59:06.408322Z",
     "start_time": "2020-06-21T02:59:06.405265Z"
    },
    "slideshow": {
     "slide_type": "fragment"
    }
   },
   "outputs": [
    {
     "data": {
      "text/plain": [
       "['hours ago emerging markets soared percent todd gordon says rally wo stop',\n",
       " 'big rally emerging markets tracked emerging market etf eem weak dollar',\n",
       " 'given gordon sees inverse relationship eem dollar measured charts dollar tracking etf uup believes']"
      ]
     },
     "execution_count": 47,
     "metadata": {},
     "output_type": "execute_result"
    }
   ],
   "source": [
    "clean_articles[:3]"
   ]
  },
  {
   "cell_type": "markdown",
   "metadata": {
    "slideshow": {
     "slide_type": "slide"
    }
   },
   "source": [
    "## Create n-grams"
   ]
  },
  {
   "cell_type": "code",
   "execution_count": 51,
   "metadata": {
    "ExecuteTime": {
     "end_time": "2020-06-21T02:59:06.417761Z",
     "start_time": "2020-06-21T02:59:06.410047Z"
    }
   },
   "outputs": [],
   "source": [
    "max_length = 3"
   ]
  },
  {
   "cell_type": "code",
   "execution_count": 52,
   "metadata": {
    "ExecuteTime": {
     "end_time": "2020-06-21T03:08:37.112665Z",
     "start_time": "2020-06-21T02:59:06.418792Z"
    },
    "slideshow": {
     "slide_type": "fragment"
    }
   },
   "outputs": [
    {
     "name": "stdout",
     "output_type": "stream",
     "text": [
      "2 3 \n",
      "\tDuration:  00:37:44\n",
      "\tngrams: 43,678\n",
      "\n",
      "length\n",
      "2    26965\n",
      "3    16713\n",
      "dtype: int64\n"
     ]
    }
   ],
   "source": [
    "n_grams = pd.DataFrame()\n",
    "start = time()\n",
    "sentences = LineSentence(clean_article_path.as_posix())  # stream sentences \n",
    "for n in range(2, max_length + 1):\n",
    "    print(n, end=' ')\n",
    "    if n>2:\n",
    "        sentences = LineSentence((results_path / f'articles_{n-1}_grams.txt').as_posix())\n",
    "    phrases = Phrases(sentences, threshold=100, min_count=10)  # \n",
    "\n",
    "    s = pd.Series({k.decode('utf-8'): v for k,\n",
    "                   v in phrases.export_phrases(sentences)}) \n",
    "    s = s.to_frame('score').reset_index().rename(\n",
    "        columns={'index': 'phrase'}).assign(length=n)\n",
    "\n",
    "    n_grams = pd.concat([n_grams, s])\n",
    "    grams = Phraser(phrases)\n",
    "    sentences = grams[sentences]\n",
    "\n",
    "    with (results_path / f'articles_{n}_grams.txt').open('w') as f:\n",
    "        # articles with 2-grams and 3-grams phrases coalesced with \"_\" are writen\n",
    "        # in 05_financial_news_word_\n",
    "        for sentence in sentences:\n",
    "            f.write(' '.join(sentence) + '\\n')\n",
    "\n",
    "n_grams = n_grams.sort_values('score', ascending=False)\n",
    "n_grams.phrase = n_grams.phrase.str.replace('_', ' ')\n",
    "n_grams['ngram'] = n_grams.phrase.str.replace(' ', '_')\n",
    "\n",
    "print('\\n\\tDuration: ', format_time(time() - start))\n",
    "print(f'\\tngrams: {len(n_grams):,d}\\n')\n",
    "print(n_grams.groupby('length').size())"
   ]
  },
  {
   "cell_type": "code",
   "execution_count": 53,
   "metadata": {
    "ExecuteTime": {
     "end_time": "2020-06-21T03:08:37.144049Z",
     "start_time": "2020-06-21T03:08:37.113775Z"
    }
   },
   "outputs": [
    {
     "data": {
      "text/html": [
       "<div>\n",
       "<style scoped>\n",
       "    .dataframe tbody tr th:only-of-type {\n",
       "        vertical-align: middle;\n",
       "    }\n",
       "\n",
       "    .dataframe tbody tr th {\n",
       "        vertical-align: top;\n",
       "    }\n",
       "\n",
       "    .dataframe thead th {\n",
       "        text-align: right;\n",
       "    }\n",
       "</style>\n",
       "<table border=\"1\" class=\"dataframe\">\n",
       "  <thead>\n",
       "    <tr style=\"text-align: right;\">\n",
       "      <th></th>\n",
       "      <th></th>\n",
       "      <th>phrase</th>\n",
       "      <th>score</th>\n",
       "      <th>length</th>\n",
       "      <th>ngram</th>\n",
       "    </tr>\n",
       "    <tr>\n",
       "      <th>length</th>\n",
       "      <th></th>\n",
       "      <th></th>\n",
       "      <th></th>\n",
       "      <th></th>\n",
       "      <th></th>\n",
       "    </tr>\n",
       "  </thead>\n",
       "  <tbody>\n",
       "    <tr>\n",
       "      <th rowspan=\"10\" valign=\"top\">2</th>\n",
       "      <th>10898</th>\n",
       "      <td>pracha hariraksapitak</td>\n",
       "      <td>182,360.93</td>\n",
       "      <td>2</td>\n",
       "      <td>pracha_hariraksapitak</td>\n",
       "    </tr>\n",
       "    <tr>\n",
       "      <th>17090</th>\n",
       "      <td>citigate dewe</td>\n",
       "      <td>182,360.93</td>\n",
       "      <td>2</td>\n",
       "      <td>citigate_dewe</td>\n",
       "    </tr>\n",
       "    <tr>\n",
       "      <th>12373</th>\n",
       "      <td>hidradenitis suppurativa</td>\n",
       "      <td>182,360.93</td>\n",
       "      <td>2</td>\n",
       "      <td>hidradenitis_suppurativa</td>\n",
       "    </tr>\n",
       "    <tr>\n",
       "      <th>23226</th>\n",
       "      <td>mukhammadsharif mamatkulov</td>\n",
       "      <td>182,360.93</td>\n",
       "      <td>2</td>\n",
       "      <td>mukhammadsharif_mamatkulov</td>\n",
       "    </tr>\n",
       "    <tr>\n",
       "      <th>26622</th>\n",
       "      <td>nidaa tounes</td>\n",
       "      <td>181,947.41</td>\n",
       "      <td>2</td>\n",
       "      <td>nidaa_tounes</td>\n",
       "    </tr>\n",
       "    <tr>\n",
       "      <th>19173</th>\n",
       "      <td>koustav samanta</td>\n",
       "      <td>181,947.41</td>\n",
       "      <td>2</td>\n",
       "      <td>koustav_samanta</td>\n",
       "    </tr>\n",
       "    <tr>\n",
       "      <th>24782</th>\n",
       "      <td>navesh chitrakar</td>\n",
       "      <td>181,947.41</td>\n",
       "      <td>2</td>\n",
       "      <td>navesh_chitrakar</td>\n",
       "    </tr>\n",
       "    <tr>\n",
       "      <th>21854</th>\n",
       "      <td>axalimogene filolisbac</td>\n",
       "      <td>181,947.41</td>\n",
       "      <td>2</td>\n",
       "      <td>axalimogene_filolisbac</td>\n",
       "    </tr>\n",
       "    <tr>\n",
       "      <th>25250</th>\n",
       "      <td>munkhchimeg davaasharav</td>\n",
       "      <td>181,855.77</td>\n",
       "      <td>2</td>\n",
       "      <td>munkhchimeg_davaasharav</td>\n",
       "    </tr>\n",
       "    <tr>\n",
       "      <th>7599</th>\n",
       "      <td>krispy kreme</td>\n",
       "      <td>181,855.77</td>\n",
       "      <td>2</td>\n",
       "      <td>krispy_kreme</td>\n",
       "    </tr>\n",
       "    <tr>\n",
       "      <th rowspan=\"10\" valign=\"top\">3</th>\n",
       "      <th>3351</th>\n",
       "      <td>daniela palmieri jessica fitzgerald</td>\n",
       "      <td>189,347.18</td>\n",
       "      <td>3</td>\n",
       "      <td>daniela_palmieri_jessica_fitzgerald</td>\n",
       "    </tr>\n",
       "    <tr>\n",
       "      <th>5395</th>\n",
       "      <td>strategist janney montgomery scott</td>\n",
       "      <td>189,347.18</td>\n",
       "      <td>3</td>\n",
       "      <td>strategist_janney_montgomery_scott</td>\n",
       "    </tr>\n",
       "    <tr>\n",
       "      <th>14148</th>\n",
       "      <td>dana reizniece ozola</td>\n",
       "      <td>189,347.18</td>\n",
       "      <td>3</td>\n",
       "      <td>dana_reizniece_ozola</td>\n",
       "    </tr>\n",
       "    <tr>\n",
       "      <th>7500</th>\n",
       "      <td>hgst sandisk tegile upthere</td>\n",
       "      <td>189,347.18</td>\n",
       "      <td>3</td>\n",
       "      <td>hgst_sandisk_tegile_upthere</td>\n",
       "    </tr>\n",
       "    <tr>\n",
       "      <th>8466</th>\n",
       "      <td>writing fransiska nangoy</td>\n",
       "      <td>189,347.18</td>\n",
       "      <td>3</td>\n",
       "      <td>writing_fransiska_nangoy</td>\n",
       "    </tr>\n",
       "    <tr>\n",
       "      <th>13693</th>\n",
       "      <td>carson elder beerman herberger</td>\n",
       "      <td>189,347.18</td>\n",
       "      <td>3</td>\n",
       "      <td>carson_elder_beerman_herberger</td>\n",
       "    </tr>\n",
       "    <tr>\n",
       "      <th>13547</th>\n",
       "      <td>freshfields bruckhaus deringer</td>\n",
       "      <td>189,347.18</td>\n",
       "      <td>3</td>\n",
       "      <td>freshfields_bruckhaus_deringer</td>\n",
       "    </tr>\n",
       "    <tr>\n",
       "      <th>4843</th>\n",
       "      <td>spokesman baik tae hyun</td>\n",
       "      <td>188,917.82</td>\n",
       "      <td>3</td>\n",
       "      <td>spokesman_baik_tae_hyun</td>\n",
       "    </tr>\n",
       "    <tr>\n",
       "      <th>16038</th>\n",
       "      <td>guesthouse meseberg palace meseberg</td>\n",
       "      <td>188,917.82</td>\n",
       "      <td>3</td>\n",
       "      <td>guesthouse_meseberg_palace_meseberg</td>\n",
       "    </tr>\n",
       "    <tr>\n",
       "      <th>13123</th>\n",
       "      <td>castello di casole</td>\n",
       "      <td>188,917.82</td>\n",
       "      <td>3</td>\n",
       "      <td>castello_di_casole</td>\n",
       "    </tr>\n",
       "  </tbody>\n",
       "</table>\n",
       "</div>"
      ],
      "text/plain": [
       "                                           phrase      score  length  \\\n",
       "length                                                                 \n",
       "2      10898                pracha hariraksapitak 182,360.93       2   \n",
       "       17090                        citigate dewe 182,360.93       2   \n",
       "       12373             hidradenitis suppurativa 182,360.93       2   \n",
       "       23226           mukhammadsharif mamatkulov 182,360.93       2   \n",
       "       26622                         nidaa tounes 181,947.41       2   \n",
       "       19173                      koustav samanta 181,947.41       2   \n",
       "       24782                     navesh chitrakar 181,947.41       2   \n",
       "       21854               axalimogene filolisbac 181,947.41       2   \n",
       "       25250              munkhchimeg davaasharav 181,855.77       2   \n",
       "       7599                          krispy kreme 181,855.77       2   \n",
       "3      3351   daniela palmieri jessica fitzgerald 189,347.18       3   \n",
       "       5395    strategist janney montgomery scott 189,347.18       3   \n",
       "       14148                 dana reizniece ozola 189,347.18       3   \n",
       "       7500           hgst sandisk tegile upthere 189,347.18       3   \n",
       "       8466              writing fransiska nangoy 189,347.18       3   \n",
       "       13693       carson elder beerman herberger 189,347.18       3   \n",
       "       13547       freshfields bruckhaus deringer 189,347.18       3   \n",
       "       4843               spokesman baik tae hyun 188,917.82       3   \n",
       "       16038  guesthouse meseberg palace meseberg 188,917.82       3   \n",
       "       13123                   castello di casole 188,917.82       3   \n",
       "\n",
       "                                            ngram  \n",
       "length                                             \n",
       "2      10898                pracha_hariraksapitak  \n",
       "       17090                        citigate_dewe  \n",
       "       12373             hidradenitis_suppurativa  \n",
       "       23226           mukhammadsharif_mamatkulov  \n",
       "       26622                         nidaa_tounes  \n",
       "       19173                      koustav_samanta  \n",
       "       24782                     navesh_chitrakar  \n",
       "       21854               axalimogene_filolisbac  \n",
       "       25250              munkhchimeg_davaasharav  \n",
       "       7599                          krispy_kreme  \n",
       "3      3351   daniela_palmieri_jessica_fitzgerald  \n",
       "       5395    strategist_janney_montgomery_scott  \n",
       "       14148                 dana_reizniece_ozola  \n",
       "       7500           hgst_sandisk_tegile_upthere  \n",
       "       8466              writing_fransiska_nangoy  \n",
       "       13693       carson_elder_beerman_herberger  \n",
       "       13547       freshfields_bruckhaus_deringer  \n",
       "       4843               spokesman_baik_tae_hyun  \n",
       "       16038  guesthouse_meseberg_palace_meseberg  \n",
       "       13123                   castello_di_casole  "
      ]
     },
     "execution_count": 53,
     "metadata": {},
     "output_type": "execute_result"
    }
   ],
   "source": [
    "n_grams.groupby('length').apply(lambda x: x.nlargest(10, 'score'))"
   ]
  },
  {
   "cell_type": "code",
   "execution_count": null,
   "metadata": {},
   "outputs": [],
   "source": []
  }
 ],
 "metadata": {
  "celltoolbar": "Slideshow",
  "kernelspec": {
   "display_name": "Python [conda env:ml4t]",
   "language": "python",
   "name": "conda-env-ml4t-py"
  },
  "language_info": {
   "codemirror_mode": {
    "name": "ipython",
    "version": 3
   },
   "file_extension": ".py",
   "mimetype": "text/x-python",
   "name": "python",
   "nbconvert_exporter": "python",
   "pygments_lexer": "ipython3",
   "version": "3.7.7"
  },
  "toc": {
   "base_numbering": 1,
   "nav_menu": {},
   "number_sections": true,
   "sideBar": true,
   "skip_h1_title": true,
   "title_cell": "Table of Contents",
   "title_sidebar": "Contents",
   "toc_cell": false,
   "toc_position": {
    "height": "47px",
    "left": "1227px",
    "top": "40px",
    "width": "212px"
   },
   "toc_section_display": true,
   "toc_window_display": true
  }
 },
 "nbformat": 4,
 "nbformat_minor": 4
}
